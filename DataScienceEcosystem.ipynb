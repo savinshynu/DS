{
 "cells": [
  {
   "cell_type": "markdown",
   "id": "32786d78-5266-48ef-9b9a-94639b60ed9e",
   "metadata": {},
   "source": [
    "## Data Science Tools and Ecosystem"
   ]
  },
  {
   "cell_type": "markdown",
   "id": "5a0b63d6-9e23-4f30-b344-6b0565e3413c",
   "metadata": {},
   "source": [
    "### In this notebook, Data Science Tools and Ecosystem are summarized.\n"
   ]
  },
  {
   "cell_type": "markdown",
   "id": "3a5253f4-c87a-4637-ab9d-a9b538775304",
   "metadata": {},
   "source": [
    "### **Objectives**\n",
    "- List popular languages used in data science\n",
    "- List commonly used libraries in data science\n",
    "- List the commonly used ML tools in data science\n",
    "- List the commonly used visualization tools in data science\n",
    "- List the commonly used development environment in data science"
   ]
  },
  {
   "cell_type": "markdown",
   "id": "e3e078b0-305d-48b9-839e-c14d32021a22",
   "metadata": {},
   "source": [
    "#### Some of the popular languages that Data Scientists use are:\n",
    "- python\n",
    "- R\n",
    "- SQL"
   ]
  },
  {
   "cell_type": "markdown",
   "id": "943ed8d2-516b-465b-aa01-3cc7a338d244",
   "metadata": {},
   "source": [
    "### Some of the commonly used libraries used by Data Scientists include:\n",
    "- Numpy\n",
    "- matplotlib\n",
    "- scikit-learm"
   ]
  },
  {
   "cell_type": "markdown",
   "id": "97ca767e-79bc-4033-8d93-4b172b57fbd9",
   "metadata": {},
   "source": [
    "|Data Science Tools|\n",
    "-------------------\n",
    "|jupyter notebook|\n",
    "|Anaconda|\n",
    "|R studio|"
   ]
  },
  {
   "cell_type": "markdown",
   "id": "f64f1088-f7bc-4949-b10a-e2c88c2c2153",
   "metadata": {},
   "source": [
    "### Below are a few examples of evaluating arithmetic expressions in Python."
   ]
  },
  {
   "cell_type": "code",
   "execution_count": 4,
   "id": "6536aa2f-57c0-47af-9cd8-b8e9b5524bc8",
   "metadata": {},
   "outputs": [
    {
     "data": {
      "text/plain": [
       "17"
      ]
     },
     "execution_count": 4,
     "metadata": {},
     "output_type": "execute_result"
    }
   ],
   "source": [
    "(3*4)+5\n"
   ]
  },
  {
   "cell_type": "code",
   "execution_count": 5,
   "id": "d04fd704-7c90-45c6-ac17-b2b6d376d537",
   "metadata": {},
   "outputs": [
    {
     "data": {
      "text/plain": [
       "3.3333333333333335"
      ]
     },
     "execution_count": 5,
     "metadata": {},
     "output_type": "execute_result"
    }
   ],
   "source": [
    "# This will convert 200 minutes to hours by diving by 60\n",
    "200/60\n"
   ]
  },
  {
   "cell_type": "markdown",
   "id": "30ceaf94-2729-4ddf-9ef8-b998649a950f",
   "metadata": {},
   "source": [
    "## Author\n",
    "Savin Shynu Varghese"
   ]
  },
  {
   "cell_type": "code",
   "execution_count": null,
   "id": "3812d27a-a091-4886-8348-6c4305e3e97b",
   "metadata": {},
   "outputs": [],
   "source": []
  }
 ],
 "metadata": {
  "kernelspec": {
   "display_name": "Python 3 (ipykernel)",
   "language": "python",
   "name": "python3"
  },
  "language_info": {
   "codemirror_mode": {
    "name": "ipython",
    "version": 3
   },
   "file_extension": ".py",
   "mimetype": "text/x-python",
   "name": "python",
   "nbconvert_exporter": "python",
   "pygments_lexer": "ipython3",
   "version": "3.9.7"
  }
 },
 "nbformat": 4,
 "nbformat_minor": 5
}
